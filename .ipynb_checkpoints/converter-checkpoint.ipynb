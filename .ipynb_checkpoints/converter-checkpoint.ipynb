{
 "cells": [
  {
   "cell_type": "code",
   "execution_count": 12,
   "metadata": {
    "tags": [
     "Hard"
    ]
   },
   "outputs": [],
   "source": [
    "from jupyter_core.paths import jupyter_path\n",
    "\n",
    "paths = jupyter_path('nbconvert','templates')\n",
    "\n",
    "#Should change this back to the 0 element from list\n",
    "if 'superbowl.tpl' not in paths:\n",
    "    with open(paths[1]+'/html/superbowl.tpl','w') as file:\n",
    "        file.write(\"\"\"\n",
    "\n",
    "                ## remove markdown cells\n",
    "                {% block markdowncell %}\n",
    "                {% endblock markdowncell %}\n",
    "\n",
    "                ## change the appearance of execution count\n",
    "                {% block in_prompt %}\n",
    "                # [{{ cell.execution_count if cell.execution_count else ' ' }}]:\n",
    "                {% endblock in_prompt %}\"\"\") \n"
   ]
  },
  {
   "cell_type": "code",
   "execution_count": 11,
   "metadata": {
    "tags": [
     "Easy"
    ]
   },
   "outputs": [],
   "source": [
    "for path in paths:\n",
    "    if 'python.tpl' in path:\n",
    "        print(path)"
   ]
  },
  {
   "cell_type": "code",
   "execution_count": null,
   "metadata": {
    "tags": [
     "Medium"
    ]
   },
   "outputs": [],
   "source": [
    "#!jupyter nbconvert --to html superbowl.ipynb --execute suberbowl.ipynb --template=superbowl.tpl"
   ]
  },
  {
   "cell_type": "code",
   "execution_count": null,
   "metadata": {},
   "outputs": [],
   "source": [
    "#!jupyter nbconvert --to html superbowl.ipynb --execute suberbowl.ipynb --no-input --template=superbowl.tpl"
   ]
  },
  {
   "cell_type": "markdown",
   "metadata": {},
   "source": [
    "can make the write file into an Fstring to change use a color picker and all that"
   ]
  },
  {
   "cell_type": "code",
   "execution_count": 23,
   "metadata": {},
   "outputs": [
    {
     "name": "stdout",
     "output_type": "stream",
     "text": [
      "Overwriting superbowl_template.tpl\n"
     ]
    }
   ],
   "source": [
    "%%writefile superbowl_template.tpl\n",
    "{% extends 'full.tpl'%}\n",
    "{% block any_cell %}\n",
    "{% if 'Hard' in cell['metadata'].get('tags', []) %}\n",
    "    <div style=\"border:thick solid red;\">\n",
    "        {{ super() }}\n",
    "    </div>\n",
    "{% elif 'Medium' in cell['metadata'].get('tags', []) %}\n",
    "    <div style=\"border:thin solid orange\">\n",
    "        {{ super() }}\n",
    "    </div>\n",
    "{% elif 'Easy' in cell['metadata'].get('tags', []) %}\n",
    "    <div style=\"border:thin solid green\">\n",
    "        {{ super() }}\n",
    "    </div>\n",
    "{% else %}\n",
    "    {{ super() }}\n",
    "{% endif %}\n",
    "{% endblock any_cell %}\n"
   ]
  },
  {
   "cell_type": "code",
   "execution_count": 32,
   "metadata": {},
   "outputs": [
    {
     "data": {
      "text/html": [],
      "text/plain": [
       "<IPython.core.display.HTML object>"
      ]
     },
     "metadata": {},
     "output_type": "display_data"
    }
   ],
   "source": [
    "### Preview \n",
    "example = !jupyter nbconvert --to html superbowl.ipynb --execute superbowl.ipynb --template=superbowl_template.tpl --no-input\n",
    "example = example[3:] # have to remove the first three lines which are not proper html\n",
    "from IPython.display import HTML, display\n",
    "display(HTML('\\n'.join(example)))"
   ]
  },
  {
   "cell_type": "code",
   "execution_count": null,
   "metadata": {},
   "outputs": [],
   "source": []
  }
 ],
 "metadata": {
  "celltoolbar": "Tags",
  "hide_input": false,
  "kernelspec": {
   "display_name": "Python 3",
   "language": "python",
   "name": "python3"
  },
  "language_info": {
   "codemirror_mode": {
    "name": "ipython",
    "version": 3
   },
   "file_extension": ".py",
   "mimetype": "text/x-python",
   "name": "python",
   "nbconvert_exporter": "python",
   "pygments_lexer": "ipython3",
   "version": "3.7.1"
  },
  "toc": {
   "base_numbering": 1,
   "nav_menu": {},
   "number_sections": true,
   "sideBar": true,
   "skip_h1_title": false,
   "title_cell": "Table of Contents",
   "title_sidebar": "Contents",
   "toc_cell": false,
   "toc_position": {},
   "toc_section_display": true,
   "toc_window_display": false
  },
  "varInspector": {
   "cols": {
    "lenName": 16,
    "lenType": 16,
    "lenVar": 40
   },
   "kernels_config": {
    "python": {
     "delete_cmd_postfix": "",
     "delete_cmd_prefix": "del ",
     "library": "var_list.py",
     "varRefreshCmd": "print(var_dic_list())"
    },
    "r": {
     "delete_cmd_postfix": ") ",
     "delete_cmd_prefix": "rm(",
     "library": "var_list.r",
     "varRefreshCmd": "cat(var_dic_list()) "
    }
   },
   "types_to_exclude": [
    "module",
    "function",
    "builtin_function_or_method",
    "instance",
    "_Feature"
   ],
   "window_display": false
  }
 },
 "nbformat": 4,
 "nbformat_minor": 4
}
